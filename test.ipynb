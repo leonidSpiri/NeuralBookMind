{
 "nbformat": 4,
 "nbformat_minor": 0,
 "metadata": {
  "colab": {
   "provenance": []
  },
  "kernelspec": {
   "name": "python3",
   "display_name": "Python 3 (ipykernel)",
   "language": "python"
  },
  "language_info": {
   "name": "python"
  }
 },
 "cells": [
  {
   "cell_type": "code",
   "metadata": {
    "id": "t_eB-_23Gjhg",
    "ExecuteTime": {
     "end_time": "2024-05-16T09:58:19.514167Z",
     "start_time": "2024-05-16T09:58:13.984103Z"
    }
   },
   "source": [
    "import numpy as np\n",
    "import matplotlib.pyplot as plt\n",
    "from tensorflow import keras\n",
    "from tensorflow.keras.layers import Dense, Flatten, Input\n",
    "from sklearn.model_selection import train_test_split"
   ],
   "outputs": [],
   "execution_count": 1
  },
  {
   "cell_type": "markdown",
   "source": [
    "### input"
   ],
   "metadata": {
    "id": "LYO2VCh6bU9x"
   }
  },
  {
   "cell_type": "code",
   "source": [
    "categories_input = [\n",
    "    'A1 - Огромный',\n",
    "    'A2 - Средний',\n",
    "    'A3 - Маленький',\n",
    "    'B1 - Деловое',\n",
    "    'B2 - Вечернее',\n",
    "    'B3 - Высокая мода',\n",
    "    'B4 - Повседневное',\n",
    "    'B5 - Молодежное',\n",
    "    'C1 - Старший',\n",
    "    'C2 - Средний',\n",
    "    'C3 - Подростковый',\n",
    "    'D1 - Люкс',\n",
    "    'D2 - Масс-маркет',\n",
    "    'D3 - Премиум'\n",
    "]\n",
    "\n",
    "categories_output = [\n",
    "    'R1 - LVMH',\n",
    "    'R2 - Melon Fashion Group',\n",
    "    'R3 - Inditex'\n",
    "]\n",
    "\n",
    "input_data = np.array([\n",
    "    [1,1,1,0,0,0,0,0,0,0,0,0,0,0],\n",
    "    [1,0,0,0,1,1,0,0,1,0,0,0,0,1],\n",
    "    [0,0,1,0,1,0,0,1,0,0,1,0,1,0],\n",
    "    [0,1,0,0,0,0,1,1,0,1,1,0,1,1],\n",
    "    [0,1,0,1,0,0,1,0,0,0,1,0,0,0],\n",
    "    [0,1,0,0,1,0,0,1,0,0,0,0,1,0],\n",
    "    [0,0,1,1,1,1,1,1,0,0,0,0,0,0],\n",
    "    [0,0,0,0,1,0,0,0,1,0,0,0,1,0],\n",
    "    [0,0,1,0,0,0,1,0,0,1,0,0,0,0],\n",
    "    [1,0,0,0,1,0,0,0,0,1,1,1,0,1],\n",
    "    ])\n",
    "\n",
    "output_data = np.array([\n",
    "          [1,0,0],\n",
    "          [1,0,0],\n",
    "          [0,0,1],\n",
    "          [0,0,1],\n",
    "          [0,1,0],\n",
    "          [0,1,0],\n",
    "          [1,0,0],\n",
    "          [0,0,1],\n",
    "          [0,1,0],\n",
    "          [1,0,0],\n",
    "           ])"
   ],
   "metadata": {
    "id": "8TxNm_93G6oV",
    "ExecuteTime": {
     "end_time": "2024-05-16T09:58:19.530407Z",
     "start_time": "2024-05-16T09:58:19.518186Z"
    }
   },
   "outputs": [],
   "execution_count": 2
  },
  {
   "cell_type": "markdown",
   "source": [
    "### model"
   ],
   "metadata": {
    "id": "damacQRqbWbm"
   }
  },
  {
   "cell_type": "code",
   "source": [
    "# input_train, input_val, output_train, output_val = train_test_split(input_data, output_data, test_size=0.1, random_state=42)"
   ],
   "metadata": {
    "id": "fLEdaGK4fTeN",
    "ExecuteTime": {
     "end_time": "2024-05-16T09:58:19.543447Z",
     "start_time": "2024-05-16T09:58:19.533416Z"
    }
   },
   "outputs": [],
   "execution_count": 3
  },
  {
   "cell_type": "code",
   "source": [
    "model = keras.Sequential([\n",
    "  Flatten(input_shape=(14,1,1)),\n",
    "  Dense(14, activation='relu'),\n",
    "  Dense(3, activation='softmax'),\n",
    "]) # TODO:\n",
    "print(model.summary())"
   ],
   "metadata": {
    "colab": {
     "base_uri": "https://localhost:8080/"
    },
    "id": "Ql1wIUG2Hglq",
    "outputId": "11e5e7f5-e88b-4b2a-f0bf-d05bc65be90e",
    "ExecuteTime": {
     "end_time": "2024-05-16T09:58:19.676882Z",
     "start_time": "2024-05-16T09:58:19.545461Z"
    }
   },
   "outputs": [
    {
     "name": "stderr",
     "output_type": "stream",
     "text": [
      "C:\\Users\\Administrator\\PycharmProjects\\NeuralBookMind\\.venv\\Lib\\site-packages\\keras\\src\\layers\\reshaping\\flatten.py:37: UserWarning: Do not pass an `input_shape`/`input_dim` argument to a layer. When using Sequential models, prefer using an `Input(shape)` object as the first layer in the model instead.\n",
      "  super().__init__(**kwargs)\n"
     ]
    },
    {
     "data": {
      "text/plain": [
       "\u001B[1mModel: \"sequential\"\u001B[0m\n"
      ],
      "text/html": [
       "<pre style=\"white-space:pre;overflow-x:auto;line-height:normal;font-family:Menlo,'DejaVu Sans Mono',consolas,'Courier New',monospace\"><span style=\"font-weight: bold\">Model: \"sequential\"</span>\n",
       "</pre>\n"
      ]
     },
     "metadata": {},
     "output_type": "display_data"
    },
    {
     "data": {
      "text/plain": [
       "┏━━━━━━━━━━━━━━━━━━━━━━━━━━━━━━━━━┳━━━━━━━━━━━━━━━━━━━━━━━━┳━━━━━━━━━━━━━━━┓\n",
       "┃\u001B[1m \u001B[0m\u001B[1mLayer (type)                   \u001B[0m\u001B[1m \u001B[0m┃\u001B[1m \u001B[0m\u001B[1mOutput Shape          \u001B[0m\u001B[1m \u001B[0m┃\u001B[1m \u001B[0m\u001B[1m      Param #\u001B[0m\u001B[1m \u001B[0m┃\n",
       "┡━━━━━━━━━━━━━━━━━━━━━━━━━━━━━━━━━╇━━━━━━━━━━━━━━━━━━━━━━━━╇━━━━━━━━━━━━━━━┩\n",
       "│ flatten (\u001B[38;5;33mFlatten\u001B[0m)               │ (\u001B[38;5;45mNone\u001B[0m, \u001B[38;5;34m14\u001B[0m)             │             \u001B[38;5;34m0\u001B[0m │\n",
       "├─────────────────────────────────┼────────────────────────┼───────────────┤\n",
       "│ dense (\u001B[38;5;33mDense\u001B[0m)                   │ (\u001B[38;5;45mNone\u001B[0m, \u001B[38;5;34m14\u001B[0m)             │           \u001B[38;5;34m210\u001B[0m │\n",
       "├─────────────────────────────────┼────────────────────────┼───────────────┤\n",
       "│ dense_1 (\u001B[38;5;33mDense\u001B[0m)                 │ (\u001B[38;5;45mNone\u001B[0m, \u001B[38;5;34m3\u001B[0m)              │            \u001B[38;5;34m45\u001B[0m │\n",
       "└─────────────────────────────────┴────────────────────────┴───────────────┘\n"
      ],
      "text/html": [
       "<pre style=\"white-space:pre;overflow-x:auto;line-height:normal;font-family:Menlo,'DejaVu Sans Mono',consolas,'Courier New',monospace\">┏━━━━━━━━━━━━━━━━━━━━━━━━━━━━━━━━━┳━━━━━━━━━━━━━━━━━━━━━━━━┳━━━━━━━━━━━━━━━┓\n",
       "┃<span style=\"font-weight: bold\"> Layer (type)                    </span>┃<span style=\"font-weight: bold\"> Output Shape           </span>┃<span style=\"font-weight: bold\">       Param # </span>┃\n",
       "┡━━━━━━━━━━━━━━━━━━━━━━━━━━━━━━━━━╇━━━━━━━━━━━━━━━━━━━━━━━━╇━━━━━━━━━━━━━━━┩\n",
       "│ flatten (<span style=\"color: #0087ff; text-decoration-color: #0087ff\">Flatten</span>)               │ (<span style=\"color: #00d7ff; text-decoration-color: #00d7ff\">None</span>, <span style=\"color: #00af00; text-decoration-color: #00af00\">14</span>)             │             <span style=\"color: #00af00; text-decoration-color: #00af00\">0</span> │\n",
       "├─────────────────────────────────┼────────────────────────┼───────────────┤\n",
       "│ dense (<span style=\"color: #0087ff; text-decoration-color: #0087ff\">Dense</span>)                   │ (<span style=\"color: #00d7ff; text-decoration-color: #00d7ff\">None</span>, <span style=\"color: #00af00; text-decoration-color: #00af00\">14</span>)             │           <span style=\"color: #00af00; text-decoration-color: #00af00\">210</span> │\n",
       "├─────────────────────────────────┼────────────────────────┼───────────────┤\n",
       "│ dense_1 (<span style=\"color: #0087ff; text-decoration-color: #0087ff\">Dense</span>)                 │ (<span style=\"color: #00d7ff; text-decoration-color: #00d7ff\">None</span>, <span style=\"color: #00af00; text-decoration-color: #00af00\">3</span>)              │            <span style=\"color: #00af00; text-decoration-color: #00af00\">45</span> │\n",
       "└─────────────────────────────────┴────────────────────────┴───────────────┘\n",
       "</pre>\n"
      ]
     },
     "metadata": {},
     "output_type": "display_data"
    },
    {
     "data": {
      "text/plain": [
       "\u001B[1m Total params: \u001B[0m\u001B[38;5;34m255\u001B[0m (1020.00 B)\n"
      ],
      "text/html": [
       "<pre style=\"white-space:pre;overflow-x:auto;line-height:normal;font-family:Menlo,'DejaVu Sans Mono',consolas,'Courier New',monospace\"><span style=\"font-weight: bold\"> Total params: </span><span style=\"color: #00af00; text-decoration-color: #00af00\">255</span> (1020.00 B)\n",
       "</pre>\n"
      ]
     },
     "metadata": {},
     "output_type": "display_data"
    },
    {
     "data": {
      "text/plain": [
       "\u001B[1m Trainable params: \u001B[0m\u001B[38;5;34m255\u001B[0m (1020.00 B)\n"
      ],
      "text/html": [
       "<pre style=\"white-space:pre;overflow-x:auto;line-height:normal;font-family:Menlo,'DejaVu Sans Mono',consolas,'Courier New',monospace\"><span style=\"font-weight: bold\"> Trainable params: </span><span style=\"color: #00af00; text-decoration-color: #00af00\">255</span> (1020.00 B)\n",
       "</pre>\n"
      ]
     },
     "metadata": {},
     "output_type": "display_data"
    },
    {
     "data": {
      "text/plain": [
       "\u001B[1m Non-trainable params: \u001B[0m\u001B[38;5;34m0\u001B[0m (0.00 B)\n"
      ],
      "text/html": [
       "<pre style=\"white-space:pre;overflow-x:auto;line-height:normal;font-family:Menlo,'DejaVu Sans Mono',consolas,'Courier New',monospace\"><span style=\"font-weight: bold\"> Non-trainable params: </span><span style=\"color: #00af00; text-decoration-color: #00af00\">0</span> (0.00 B)\n",
       "</pre>\n"
      ]
     },
     "metadata": {},
     "output_type": "display_data"
    },
    {
     "name": "stdout",
     "output_type": "stream",
     "text": [
      "None\n"
     ]
    }
   ],
   "execution_count": 4
  },
  {
   "cell_type": "code",
   "source": [
    "model.compile(optimizer='adam',\n",
    "              loss='categorical_crossentropy',\n",
    "              metrics=['accuracy'])\n",
    "model.fit(input_data, output_data, epochs=99, validation_split=0.1) # TODO: эпохи\n",
    "# model.fit(input_train, output_train, epochs=5, validation_data=(input_val, output_val))"
   ],
   "metadata": {
    "colab": {
     "base_uri": "https://localhost:8080/"
    },
    "id": "uZuryt4uVCST",
    "outputId": "609e27be-c29d-420f-9356-adc9a5de91ca",
    "ExecuteTime": {
     "end_time": "2024-05-16T10:06:23.809347Z",
     "start_time": "2024-05-16T10:06:23.721165Z"
    }
   },
   "outputs": [
    {
     "name": "stdout",
     "output_type": "stream",
     "text": [
      "Epoch 1/99\n"
     ]
    },
    {
     "ename": "ValueError",
     "evalue": "Exception encountered when calling Sequential.call().\n\n\u001B[1mInvalid input shape for input Tensor(\"sequential_1/Cast:0\", shape=(None, 14), dtype=float32). Expected shape (None, 14, 1, 1), but input has incompatible shape (None, 14)\u001B[0m\n\nArguments received by Sequential.call():\n  • inputs=tf.Tensor(shape=(None, 14), dtype=int32)\n  • training=True\n  • mask=None",
     "output_type": "error",
     "traceback": [
      "\u001B[1;31m---------------------------------------------------------------------------\u001B[0m",
      "\u001B[1;31mValueError\u001B[0m                                Traceback (most recent call last)",
      "Cell \u001B[1;32mIn[6], line 4\u001B[0m\n\u001B[0;32m      1\u001B[0m model\u001B[38;5;241m.\u001B[39mcompile(optimizer\u001B[38;5;241m=\u001B[39m\u001B[38;5;124m'\u001B[39m\u001B[38;5;124madam\u001B[39m\u001B[38;5;124m'\u001B[39m,\n\u001B[0;32m      2\u001B[0m               loss\u001B[38;5;241m=\u001B[39m\u001B[38;5;124m'\u001B[39m\u001B[38;5;124mcategorical_crossentropy\u001B[39m\u001B[38;5;124m'\u001B[39m,\n\u001B[0;32m      3\u001B[0m               metrics\u001B[38;5;241m=\u001B[39m[\u001B[38;5;124m'\u001B[39m\u001B[38;5;124maccuracy\u001B[39m\u001B[38;5;124m'\u001B[39m])\n\u001B[1;32m----> 4\u001B[0m \u001B[43mmodel\u001B[49m\u001B[38;5;241;43m.\u001B[39;49m\u001B[43mfit\u001B[49m\u001B[43m(\u001B[49m\u001B[43minput_data\u001B[49m\u001B[43m,\u001B[49m\u001B[43m \u001B[49m\u001B[43moutput_data\u001B[49m\u001B[43m,\u001B[49m\u001B[43m \u001B[49m\u001B[43mepochs\u001B[49m\u001B[38;5;241;43m=\u001B[39;49m\u001B[38;5;241;43m99\u001B[39;49m\u001B[43m,\u001B[49m\u001B[43m \u001B[49m\u001B[43mvalidation_split\u001B[49m\u001B[38;5;241;43m=\u001B[39;49m\u001B[38;5;241;43m0.1\u001B[39;49m\u001B[43m)\u001B[49m \u001B[38;5;66;03m# TODO: эпохи\u001B[39;00m\n\u001B[0;32m      5\u001B[0m \u001B[38;5;66;03m# model.fit(input_train, output_train, epochs=5, validation_data=(input_val, output_val))\u001B[39;00m\n",
      "File \u001B[1;32m~\\PycharmProjects\\NeuralBookMind\\.venv\\Lib\\site-packages\\keras\\src\\utils\\traceback_utils.py:122\u001B[0m, in \u001B[0;36mfilter_traceback.<locals>.error_handler\u001B[1;34m(*args, **kwargs)\u001B[0m\n\u001B[0;32m    119\u001B[0m     filtered_tb \u001B[38;5;241m=\u001B[39m _process_traceback_frames(e\u001B[38;5;241m.\u001B[39m__traceback__)\n\u001B[0;32m    120\u001B[0m     \u001B[38;5;66;03m# To get the full stack trace, call:\u001B[39;00m\n\u001B[0;32m    121\u001B[0m     \u001B[38;5;66;03m# `keras.config.disable_traceback_filtering()`\u001B[39;00m\n\u001B[1;32m--> 122\u001B[0m     \u001B[38;5;28;01mraise\u001B[39;00m e\u001B[38;5;241m.\u001B[39mwith_traceback(filtered_tb) \u001B[38;5;28;01mfrom\u001B[39;00m \u001B[38;5;28;01mNone\u001B[39;00m\n\u001B[0;32m    123\u001B[0m \u001B[38;5;28;01mfinally\u001B[39;00m:\n\u001B[0;32m    124\u001B[0m     \u001B[38;5;28;01mdel\u001B[39;00m filtered_tb\n",
      "File \u001B[1;32m~\\PycharmProjects\\NeuralBookMind\\.venv\\Lib\\site-packages\\keras\\src\\models\\functional.py:288\u001B[0m, in \u001B[0;36mFunctional._adjust_input_rank\u001B[1;34m(self, flat_inputs)\u001B[0m\n\u001B[0;32m    286\u001B[0m             adjusted\u001B[38;5;241m.\u001B[39mappend(ops\u001B[38;5;241m.\u001B[39mexpand_dims(x, axis\u001B[38;5;241m=\u001B[39m\u001B[38;5;241m-\u001B[39m\u001B[38;5;241m1\u001B[39m))\n\u001B[0;32m    287\u001B[0m             \u001B[38;5;28;01mcontinue\u001B[39;00m\n\u001B[1;32m--> 288\u001B[0m     \u001B[38;5;28;01mraise\u001B[39;00m \u001B[38;5;167;01mValueError\u001B[39;00m(\n\u001B[0;32m    289\u001B[0m         \u001B[38;5;124mf\u001B[39m\u001B[38;5;124m\"\u001B[39m\u001B[38;5;124mInvalid input shape for input \u001B[39m\u001B[38;5;132;01m{\u001B[39;00mx\u001B[38;5;132;01m}\u001B[39;00m\u001B[38;5;124m. Expected shape \u001B[39m\u001B[38;5;124m\"\u001B[39m\n\u001B[0;32m    290\u001B[0m         \u001B[38;5;124mf\u001B[39m\u001B[38;5;124m\"\u001B[39m\u001B[38;5;132;01m{\u001B[39;00mref_shape\u001B[38;5;132;01m}\u001B[39;00m\u001B[38;5;124m, but input has incompatible shape \u001B[39m\u001B[38;5;132;01m{\u001B[39;00mx\u001B[38;5;241m.\u001B[39mshape\u001B[38;5;132;01m}\u001B[39;00m\u001B[38;5;124m\"\u001B[39m\n\u001B[0;32m    291\u001B[0m     )\n\u001B[0;32m    292\u001B[0m \u001B[38;5;66;03m# Add back metadata.\u001B[39;00m\n\u001B[0;32m    293\u001B[0m \u001B[38;5;28;01mfor\u001B[39;00m i \u001B[38;5;129;01min\u001B[39;00m \u001B[38;5;28mrange\u001B[39m(\u001B[38;5;28mlen\u001B[39m(flat_inputs)):\n",
      "\u001B[1;31mValueError\u001B[0m: Exception encountered when calling Sequential.call().\n\n\u001B[1mInvalid input shape for input Tensor(\"sequential_1/Cast:0\", shape=(None, 14), dtype=float32). Expected shape (None, 14, 1, 1), but input has incompatible shape (None, 14)\u001B[0m\n\nArguments received by Sequential.call():\n  • inputs=tf.Tensor(shape=(None, 14), dtype=int32)\n  • training=True\n  • mask=None"
     ]
    }
   ],
   "execution_count": 6
  },
  {
   "cell_type": "code",
   "source": [
    "x = [0,0,1,0,0,0,1,0,0,1,0,0,1,0]\n",
    "input_understandable = [categories_input[i] for i, x in enumerate(x) if x == 1]\n",
    "\n",
    "x = np.expand_dims(x, axis=0)\n",
    "res = model.predict(x)\n",
    "print(res)\n",
    "print()\n",
    "print(input_understandable)\n",
    "print(categories_output[np.argmax(res)])\n",
    "print()"
   ],
   "metadata": {
    "id": "F1bmpOBAVfDs",
    "colab": {
     "base_uri": "https://localhost:8080/"
    },
    "outputId": "3a7bee13-8112-43a6-abd5-1acf9d5261c1"
   },
   "outputs": [],
   "execution_count": null
  },
  {
   "cell_type": "code",
   "source": [
    "print(np.argmax(res))"
   ],
   "metadata": {
    "id": "WosjkxzPVsE0",
    "colab": {
     "base_uri": "https://localhost:8080/"
    },
    "outputId": "f5c994c1-d505-4eea-8c42-49b7045513ae"
   },
   "outputs": [],
   "execution_count": null
  },
  {
   "cell_type": "markdown",
   "source": [
    "----\n"
   ],
   "metadata": {
    "id": "xpvD6lHIj48-"
   }
  },
  {
   "cell_type": "code",
   "source": [
    "input_string = input(\"Введите строку: \")\n",
    "output_string = \",\".join(input_string)\n",
    "print(output_string)"
   ],
   "metadata": {
    "colab": {
     "base_uri": "https://localhost:8080/"
    },
    "id": "JqvqOsk_ZdXT",
    "outputId": "9ec49203-6fce-4ae7-f929-9790252c20e6"
   },
   "outputs": [],
   "execution_count": null
  },
  {
   "cell_type": "markdown",
   "source": [
    "---"
   ],
   "metadata": {
    "id": "0__ziUxVkyCl"
   }
  },
  {
   "cell_type": "code",
   "source": [
    "from sklearn.metrics import confusion_matrix, classification_report\n",
    "import seaborn as sns\n",
    "\n",
    "# Assuming you have a separate test dataset or you split your data into training and test sets\n",
    "# For demonstration, using the same data. In practice, use separate test data.\n",
    "input_test = input_data\n",
    "output_test = output_data\n",
    "\n",
    "# Predicting the test dataset\n",
    "predictions = model.predict(input_test)\n",
    "predicted_classes = np.argmax(predictions, axis=1)\n",
    "true_classes = np.argmax(output_test, axis=1)\n",
    "\n",
    "# Confusion Matrix\n",
    "cm = confusion_matrix(true_classes, predicted_classes)\n",
    "plt.figure(figsize=(10, 7))\n",
    "sns.heatmap(cm, annot=True, fmt=\"d\", cmap=\"Blues\")\n",
    "plt.title(\"Confusion Matrix\")\n",
    "plt.xlabel(\"Predicted Labels\")\n",
    "plt.ylabel(\"True Labels\")\n",
    "plt.show()\n",
    "\n",
    "# Classification Report\n",
    "print(\"Classification Report:\\n\", classification_report(true_classes, predicted_classes))"
   ],
   "metadata": {
    "colab": {
     "base_uri": "https://localhost:8080/",
     "height": 849
    },
    "id": "cqk_b3WBkywN",
    "outputId": "fc0e6d38-d020-417a-8a2c-d239aabe85ce"
   },
   "outputs": [],
   "execution_count": null
  }
 ]
}
